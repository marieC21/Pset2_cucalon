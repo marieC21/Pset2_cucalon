{
 "cells": [
  {
   "cell_type": "code",
   "execution_count": 3,
   "metadata": {},
   "outputs": [],
   "source": [
    "import pandas as pd\n",
    "import matplotlib.pyplot as plt"
   ]
  },
  {
   "cell_type": "code",
   "execution_count": 4,
   "metadata": {},
   "outputs": [],
   "source": [
    "# Carga el documento csv raw\n",
    "df = pd.read_csv('/Users/chants/Desktop/Pset2_cucalon/data/raw/Airbnb_Data.csv')"
   ]
  },
  {
   "cell_type": "code",
   "execution_count": 4,
   "metadata": {},
   "outputs": [
    {
     "name": "stdout",
     "output_type": "stream",
     "text": [
      "<class 'pandas.core.frame.DataFrame'>\n",
      "RangeIndex: 74111 entries, 0 to 74110\n",
      "Data columns (total 29 columns):\n",
      " #   Column                  Non-Null Count  Dtype  \n",
      "---  ------                  --------------  -----  \n",
      " 0   id                      74111 non-null  int64  \n",
      " 1   log_price               74111 non-null  float64\n",
      " 2   property_type           74111 non-null  object \n",
      " 3   room_type               74111 non-null  object \n",
      " 4   amenities               74111 non-null  object \n",
      " 5   accommodates            74111 non-null  int64  \n",
      " 6   bathrooms               73911 non-null  float64\n",
      " 7   bed_type                74111 non-null  object \n",
      " 8   cancellation_policy     74111 non-null  object \n",
      " 9   cleaning_fee            74111 non-null  bool   \n",
      " 10  city                    74111 non-null  object \n",
      " 11  description             74111 non-null  object \n",
      " 12  first_review            58247 non-null  object \n",
      " 13  host_has_profile_pic    73923 non-null  object \n",
      " 14  host_identity_verified  73923 non-null  object \n",
      " 15  host_response_rate      55812 non-null  object \n",
      " 16  host_since              73923 non-null  object \n",
      " 17  instant_bookable        74111 non-null  object \n",
      " 18  last_review             58284 non-null  object \n",
      " 19  latitude                74111 non-null  float64\n",
      " 20  longitude               74111 non-null  float64\n",
      " 21  name                    74111 non-null  object \n",
      " 22  neighbourhood           67239 non-null  object \n",
      " 23  number_of_reviews       74111 non-null  int64  \n",
      " 24  review_scores_rating    57389 non-null  float64\n",
      " 25  thumbnail_url           65895 non-null  object \n",
      " 26  zipcode                 73145 non-null  object \n",
      " 27  bedrooms                74020 non-null  float64\n",
      " 28  beds                    73980 non-null  float64\n",
      "dtypes: bool(1), float64(7), int64(3), object(18)\n",
      "memory usage: 15.9+ MB\n",
      "None\n"
     ]
    }
   ],
   "source": [
    "print(df.info())"
   ]
  },
  {
   "cell_type": "code",
   "execution_count": 5,
   "metadata": {},
   "outputs": [
    {
     "name": "stdout",
     "output_type": "stream",
     "text": [
      "         id  log_price property_type        room_type  \\\n",
      "0   6901257   5.010635     Apartment  Entire home/apt   \n",
      "1   6304928   5.129899     Apartment  Entire home/apt   \n",
      "2   7919400   4.976734     Apartment  Entire home/apt   \n",
      "3  13418779   6.620073         House  Entire home/apt   \n",
      "4   3808709   4.744932     Apartment  Entire home/apt   \n",
      "\n",
      "                                           amenities  accommodates  bathrooms  \\\n",
      "0  {\"Wireless Internet\",\"Air conditioning\",Kitche...             3        1.0   \n",
      "1  {\"Wireless Internet\",\"Air conditioning\",Kitche...             7        1.0   \n",
      "2  {TV,\"Cable TV\",\"Wireless Internet\",\"Air condit...             5        1.0   \n",
      "3  {TV,\"Cable TV\",Internet,\"Wireless Internet\",Ki...             4        1.0   \n",
      "4  {TV,Internet,\"Wireless Internet\",\"Air conditio...             2        1.0   \n",
      "\n",
      "   bed_type cancellation_policy  cleaning_fee  ...   latitude   longitude  \\\n",
      "0  Real Bed              strict          True  ...  40.696524  -73.991617   \n",
      "1  Real Bed              strict          True  ...  40.766115  -73.989040   \n",
      "2  Real Bed            moderate          True  ...  40.808110  -73.943756   \n",
      "3  Real Bed            flexible          True  ...  37.772004 -122.431619   \n",
      "4  Real Bed            moderate          True  ...  38.925627  -77.034596   \n",
      "\n",
      "                                       name     neighbourhood  \\\n",
      "0            Beautiful brownstone 1-bedroom  Brooklyn Heights   \n",
      "1  Superb 3BR Apt Located Near Times Square    Hell's Kitchen   \n",
      "2                          The Garden Oasis            Harlem   \n",
      "3        Beautiful Flat in the Heart of SF!      Lower Haight   \n",
      "4                Great studio in midtown DC  Columbia Heights   \n",
      "\n",
      "  number_of_reviews review_scores_rating  \\\n",
      "0                 2                100.0   \n",
      "1                 6                 93.0   \n",
      "2                10                 92.0   \n",
      "3                 0                  NaN   \n",
      "4                 4                 40.0   \n",
      "\n",
      "                                       thumbnail_url  zipcode bedrooms  beds  \n",
      "0  https://a0.muscache.com/im/pictures/6d7cbbf7-c...    11201      1.0   1.0  \n",
      "1  https://a0.muscache.com/im/pictures/348a55fe-4...    10019      3.0   3.0  \n",
      "2  https://a0.muscache.com/im/pictures/6fae5362-9...    10027      1.0   3.0  \n",
      "3  https://a0.muscache.com/im/pictures/72208dad-9...  94117.0      2.0   2.0  \n",
      "4                                                NaN    20009      0.0   1.0  \n",
      "\n",
      "[5 rows x 29 columns]\n"
     ]
    }
   ],
   "source": [
    "print(df.head())"
   ]
  },
  {
   "cell_type": "code",
   "execution_count": 6,
   "metadata": {},
   "outputs": [
    {
     "name": "stdout",
     "output_type": "stream",
     "text": [
      "id                            0\n",
      "log_price                     0\n",
      "property_type                 0\n",
      "room_type                     0\n",
      "amenities                     0\n",
      "accommodates                  0\n",
      "bathrooms                   200\n",
      "bed_type                      0\n",
      "cancellation_policy           0\n",
      "cleaning_fee                  0\n",
      "city                          0\n",
      "description                   0\n",
      "first_review              15864\n",
      "host_has_profile_pic        188\n",
      "host_identity_verified      188\n",
      "host_response_rate        18299\n",
      "host_since                  188\n",
      "instant_bookable              0\n",
      "last_review               15827\n",
      "latitude                      0\n",
      "longitude                     0\n",
      "name                          0\n",
      "neighbourhood              6872\n",
      "number_of_reviews             0\n",
      "review_scores_rating      16722\n",
      "thumbnail_url              8216\n",
      "zipcode                     966\n",
      "bedrooms                     91\n",
      "beds                        131\n",
      "dtype: int64\n"
     ]
    }
   ],
   "source": [
    "print(df.isnull().sum())"
   ]
  },
  {
   "cell_type": "code",
   "execution_count": 7,
   "metadata": {},
   "outputs": [
    {
     "name": "stdout",
     "output_type": "stream",
     "text": [
      "             id  log_price property_type        room_type  \\\n",
      "33     10994968   4.488636         House     Private room   \n",
      "38     12232154   4.744932     Apartment  Entire home/apt   \n",
      "378    13559613   4.605170     Apartment     Private room   \n",
      "644    13068133   4.488636     Apartment     Private room   \n",
      "1351   13928644   5.164786     Apartment  Entire home/apt   \n",
      "...         ...        ...           ...              ...   \n",
      "72631   3394508   5.521461     Apartment  Entire home/apt   \n",
      "73040  13042752   4.595120     Apartment  Entire home/apt   \n",
      "73362  19372893   4.248495     Apartment     Private room   \n",
      "73377   3157330   4.465908         House     Private room   \n",
      "73905  16134518   3.891820     Apartment     Private room   \n",
      "\n",
      "                                               amenities  accommodates  \\\n",
      "33     {Internet,\"Wireless Internet\",Kitchen,\"Pets li...             1   \n",
      "38     {Internet,\"Wireless Internet\",Kitchen,\"Pets al...             2   \n",
      "378                                                   {}             1   \n",
      "644    {Internet,\"Wireless Internet\",\"Air conditionin...             1   \n",
      "1351                                                  {}             2   \n",
      "...                                                  ...           ...   \n",
      "72631  {TV,\"Cable TV\",\"Wireless Internet\",\"Air condit...             2   \n",
      "73040  {TV,\"Cable TV\",Internet,\"Wireless Internet\",\"A...             4   \n",
      "73362  {Internet,\"Wireless Internet\",\"Air conditionin...             1   \n",
      "73377  {TV,\"Wireless Internet\",\"Air conditioning\",Hea...             4   \n",
      "73905  {Internet,\"Wireless Internet\",\"Air conditionin...             2   \n",
      "\n",
      "       bathrooms  bed_type cancellation_policy  cleaning_fee  ...   latitude  \\\n",
      "33           NaN  Real Bed            moderate          True  ...  34.086338   \n",
      "38           NaN  Real Bed              strict          True  ...  40.731311   \n",
      "378          NaN  Real Bed            flexible         False  ...  40.685423   \n",
      "644          NaN  Real Bed              strict          True  ...  40.720288   \n",
      "1351         NaN  Real Bed              strict          True  ...  40.761937   \n",
      "...          ...       ...                 ...           ...  ...        ...   \n",
      "72631        NaN  Real Bed              strict          True  ...  40.722131   \n",
      "73040        NaN  Real Bed              strict          True  ...  38.914632   \n",
      "73362        NaN  Real Bed              strict          True  ...  40.659810   \n",
      "73377        NaN  Real Bed              strict          True  ...  40.762908   \n",
      "73905        NaN  Real Bed            moderate         False  ...  40.699822   \n",
      "\n",
      "        longitude                                 name    neighbourhood  \\\n",
      "33    -118.364778     See Hollywood! The Most Central!   West Hollywood   \n",
      "38     -73.986092      Amazing Prewar East Village Apt     East Village   \n",
      "378    -73.907321                      Apt in Bushwick         Bushwick   \n",
      "644    -73.997312                    Private Room SOHO     Little Italy   \n",
      "1351   -73.993456    Great 1 bedroom- awesome location   Hell's Kitchen   \n",
      "...           ...                                  ...              ...   \n",
      "72631  -73.992357  Penthouse w/terrace in East Village  Lower East Side   \n",
      "73040  -77.017953    Private Historic Rowhouse 1BR Apt     LeDroit Park   \n",
      "73362  -73.959703    Huge Room Prospect Park Brooklyn!  Lefferts Garden   \n",
      "73377  -73.918715  NICE ROOM IN ASTORIA NEAR MANHATTAN          Astoria   \n",
      "73905  -73.924896    Great 1 bedroom, close to subway!         Bushwick   \n",
      "\n",
      "      number_of_reviews review_scores_rating  \\\n",
      "33                   46                 99.0   \n",
      "38                    2                100.0   \n",
      "378                   0                  NaN   \n",
      "644                  93                 96.0   \n",
      "1351                 33                 92.0   \n",
      "...                 ...                  ...   \n",
      "72631                71                 98.0   \n",
      "73040                51                 92.0   \n",
      "73362                13                 97.0   \n",
      "73377               135                 91.0   \n",
      "73905                 2                 60.0   \n",
      "\n",
      "                                           thumbnail_url  zipcode bedrooms  \\\n",
      "33     https://a0.muscache.com/im/pictures/9790246/e9...    90046      1.0   \n",
      "38     https://a0.muscache.com/im/pictures/42249609/a...  10003.0      1.0   \n",
      "378                                                  NaN    11207      1.0   \n",
      "644    https://a0.muscache.com/im/pictures/75637053-4...    10013      1.0   \n",
      "1351   https://a0.muscache.com/im/pictures/21270396/4...    10036      1.0   \n",
      "...                                                  ...      ...      ...   \n",
      "72631  https://a0.muscache.com/im/pictures/84677757/2...    10003      1.0   \n",
      "73040  https://a0.muscache.com/im/pictures/5297408/39...    20001      1.0   \n",
      "73362                                                NaN    11225      1.0   \n",
      "73377  https://a0.muscache.com/im/pictures/15045638/c...    11103      1.0   \n",
      "73905  https://a0.muscache.com/im/pictures/101960029/...    11221      1.0   \n",
      "\n",
      "       beds  \n",
      "33      1.0  \n",
      "38      1.0  \n",
      "378     NaN  \n",
      "644     1.0  \n",
      "1351    1.0  \n",
      "...     ...  \n",
      "72631   1.0  \n",
      "73040   1.0  \n",
      "73362   NaN  \n",
      "73377   2.0  \n",
      "73905   NaN  \n",
      "\n",
      "[200 rows x 29 columns]\n"
     ]
    }
   ],
   "source": [
    "# Bathrooms\n",
    "print(df[df['bathrooms'].isnull()])"
   ]
  },
  {
   "cell_type": "code",
   "execution_count": 8,
   "metadata": {},
   "outputs": [
    {
     "name": "stdout",
     "output_type": "stream",
     "text": [
      "      property_type        room_type  accommodates\n",
      "33            House     Private room             1\n",
      "38        Apartment  Entire home/apt             2\n",
      "378       Apartment     Private room             1\n",
      "644       Apartment     Private room             1\n",
      "1351      Apartment  Entire home/apt             2\n",
      "...             ...              ...           ...\n",
      "72631     Apartment  Entire home/apt             2\n",
      "73040     Apartment  Entire home/apt             4\n",
      "73362     Apartment     Private room             1\n",
      "73377         House     Private room             4\n",
      "73905     Apartment     Private room             2\n",
      "\n",
      "[200 rows x 3 columns]\n"
     ]
    }
   ],
   "source": [
    "print(df[df['bathrooms'].isnull()][['property_type', 'room_type', 'accommodates']])"
   ]
  },
  {
   "cell_type": "code",
   "execution_count": 9,
   "metadata": {},
   "outputs": [
    {
     "name": "stdout",
     "output_type": "stream",
     "text": [
      "bathrooms\n",
      "1.0    58099\n",
      "2.0     7936\n",
      "1.5     3801\n",
      "2.5     1567\n",
      "3.0     1066\n",
      "3.5      429\n",
      "4.0      286\n",
      "0.5      209\n",
      "NaN      200\n",
      "0.0      198\n",
      "4.5      116\n",
      "5.0       72\n",
      "8.0       41\n",
      "5.5       39\n",
      "6.0       24\n",
      "6.5       12\n",
      "7.0       10\n",
      "7.5        6\n",
      "Name: count, dtype: int64\n"
     ]
    }
   ],
   "source": [
    "print(df['bathrooms'].value_counts(dropna=False))\n"
   ]
  },
  {
   "cell_type": "code",
   "execution_count": 10,
   "metadata": {},
   "outputs": [
    {
     "name": "stdout",
     "output_type": "stream",
     "text": [
      "count    73911.000000\n",
      "mean         1.235263\n",
      "std          0.582044\n",
      "min          0.000000\n",
      "25%          1.000000\n",
      "50%          1.000000\n",
      "75%          1.000000\n",
      "max          8.000000\n",
      "Name: bathrooms, dtype: float64\n"
     ]
    }
   ],
   "source": [
    "print(df['bathrooms'].describe())"
   ]
  },
  {
   "cell_type": "code",
   "execution_count": 11,
   "metadata": {},
   "outputs": [
    {
     "name": "stdout",
     "output_type": "stream",
     "text": [
      "       beds  bed_type\n",
      "0       1.0  Real Bed\n",
      "1       3.0  Real Bed\n",
      "2       3.0  Real Bed\n",
      "3       2.0  Real Bed\n",
      "4       1.0  Real Bed\n",
      "...     ...       ...\n",
      "74106   1.0  Real Bed\n",
      "74107   4.0  Real Bed\n",
      "74108   2.0  Real Bed\n",
      "74109   2.0  Real Bed\n",
      "74110   2.0  Real Bed\n",
      "\n",
      "[74111 rows x 2 columns]\n"
     ]
    }
   ],
   "source": [
    "# Mostrar solo las columnas 'beds' y 'bed_type'\n",
    "print(df[['beds', 'bed_type']])"
   ]
  },
  {
   "cell_type": "code",
   "execution_count": 18,
   "metadata": {},
   "outputs": [
    {
     "name": "stdout",
     "output_type": "stream",
     "text": [
      "Conteo de Property Types:\n",
      "property_type\n",
      "Apartment             49003\n",
      "House                 16511\n",
      "Condominium            2658\n",
      "Townhouse              1692\n",
      "Loft                   1244\n",
      "Other                   607\n",
      "Guesthouse              498\n",
      "Bed & Breakfast         462\n",
      "Bungalow                366\n",
      "Villa                   179\n",
      "Dorm                    142\n",
      "Guest suite             123\n",
      "Camper/RV                94\n",
      "Timeshare                77\n",
      "Cabin                    72\n",
      "In-law                   71\n",
      "Hostel                   70\n",
      "Boutique hotel           69\n",
      "Boat                     65\n",
      "Serviced apartment       21\n",
      "Tent                     18\n",
      "Castle                   13\n",
      "Vacation home            11\n",
      "Yurt                      9\n",
      "Hut                       8\n",
      "Treehouse                 7\n",
      "Chalet                    6\n",
      "Earth House               4\n",
      "Tipi                      3\n",
      "Train                     2\n",
      "Cave                      2\n",
      "Casa particular           1\n",
      "Parking Space             1\n",
      "Lighthouse                1\n",
      "Island                    1\n",
      "Name: count, dtype: int64\n"
     ]
    }
   ],
   "source": [
    "# Contar las ocurrencias de cada tipo de propiedad y tipo de habitación\n",
    "property_counts = df['property_type'].value_counts()\n",
    "room_counts = df['room_type'].value_counts()\n",
    "bed_counts = df['bed_type'].value_counts()\n",
    "beds_counts = df['beds'].value_counts()\n",
    "bedrooms_counts = df['bedrooms'].value_counts()\n",
    "scores_counts = df['review_scores_rating'].value_counts()\n",
    "neighbourhood_counts = df['neighbourhood'].value_counts()\n",
    "city_counts = df['city'].value_counts()\n",
    "\n",
    "\n",
    "# Mostrar los resultados\n",
    "print(\"Conteo de Property Types:\")\n",
    "print(property_counts)"
   ]
  },
  {
   "cell_type": "code",
   "execution_count": 34,
   "metadata": {},
   "outputs": [
    {
     "name": "stdout",
     "output_type": "stream",
     "text": [
      "count         74111\n",
      "unique           35\n",
      "top       Apartment\n",
      "freq          49003\n",
      "Name: property_type, dtype: object\n"
     ]
    }
   ],
   "source": [
    "print(df['property_type'].describe())"
   ]
  },
  {
   "cell_type": "code",
   "execution_count": 15,
   "metadata": {},
   "outputs": [
    {
     "name": "stdout",
     "output_type": "stream",
     "text": [
      "\n",
      "Conteo de Room Types:\n",
      "room_type\n",
      "Entire home/apt    41310\n",
      "Private room       30638\n",
      "Shared room         2163\n",
      "Name: count, dtype: int64\n"
     ]
    }
   ],
   "source": [
    "print(\"\\nConteo de Room Types:\")\n",
    "print(room_counts)"
   ]
  },
  {
   "cell_type": "code",
   "execution_count": 33,
   "metadata": {},
   "outputs": [
    {
     "name": "stdout",
     "output_type": "stream",
     "text": [
      "count               74111\n",
      "unique                  3\n",
      "top       Entire home/apt\n",
      "freq                41310\n",
      "Name: room_type, dtype: object\n"
     ]
    }
   ],
   "source": [
    "print(df['room_type'].describe())"
   ]
  },
  {
   "cell_type": "code",
   "execution_count": 17,
   "metadata": {},
   "outputs": [
    {
     "name": "stdout",
     "output_type": "stream",
     "text": [
      "\n",
      "Conteo de Bed Types:\n",
      "bed_type\n",
      "Real Bed         72028\n",
      "Futon              753\n",
      "Pull-out Sofa      585\n",
      "Airbed             477\n",
      "Couch              268\n",
      "Name: count, dtype: int64\n"
     ]
    }
   ],
   "source": [
    "print(\"\\nConteo de Bed Types:\")\n",
    "print(bed_counts)"
   ]
  },
  {
   "cell_type": "code",
   "execution_count": 32,
   "metadata": {},
   "outputs": [
    {
     "name": "stdout",
     "output_type": "stream",
     "text": [
      "count        74111\n",
      "unique           5\n",
      "top       Real Bed\n",
      "freq         72028\n",
      "Name: bed_type, dtype: object\n"
     ]
    }
   ],
   "source": [
    "print(df['bed_type'].describe())"
   ]
  },
  {
   "cell_type": "code",
   "execution_count": 39,
   "metadata": {},
   "outputs": [
    {
     "name": "stdout",
     "output_type": "stream",
     "text": [
      "\n",
      "Conteo de Neighbourhood:\n",
      "neighbourhood\n",
      "Williamsburg          2862\n",
      "Bedford-Stuyvesant    2166\n",
      "Bushwick              1601\n",
      "Upper West Side       1396\n",
      "Mid-Wilshire          1392\n",
      "                      ... \n",
      "Mill Basin               1\n",
      "Mt. Vernon Square        1\n",
      "Chevy Chase, MD          1\n",
      "Clearing                 1\n",
      "Grant City               1\n",
      "Name: count, Length: 619, dtype: int64\n"
     ]
    }
   ],
   "source": [
    "print(\"\\nConteo de Neighbourhood:\")\n",
    "print(neighbourhood_counts)"
   ]
  },
  {
   "cell_type": "code",
   "execution_count": 19,
   "metadata": {},
   "outputs": [
    {
     "name": "stdout",
     "output_type": "stream",
     "text": [
      "count            67239\n",
      "unique             619\n",
      "top       Williamsburg\n",
      "freq              2862\n",
      "Name: neighbourhood, dtype: object\n"
     ]
    }
   ],
   "source": [
    "print(df['neighbourhood'].describe())"
   ]
  },
  {
   "cell_type": "code",
   "execution_count": 36,
   "metadata": {},
   "outputs": [
    {
     "name": "stdout",
     "output_type": "stream",
     "text": [
      "\n",
      "Conteo de Review Scores:\n",
      "review_scores_rating\n",
      "100.0    16215\n",
      "98.0      4374\n",
      "97.0      4087\n",
      "96.0      4081\n",
      "95.0      3713\n",
      "93.0      3647\n",
      "90.0      2852\n",
      "99.0      2631\n",
      "94.0      2618\n",
      "80.0      2163\n",
      "92.0      2064\n",
      "91.0      1615\n",
      "89.0      1120\n",
      "87.0      1119\n",
      "88.0      1056\n",
      "85.0       625\n",
      "86.0       512\n",
      "60.0       444\n",
      "84.0       438\n",
      "83.0       403\n",
      "82.0       211\n",
      "70.0       196\n",
      "73.0       157\n",
      "81.0       126\n",
      "75.0       101\n",
      "20.0        97\n",
      "78.0        94\n",
      "40.0        90\n",
      "79.0        83\n",
      "76.0        76\n",
      "77.0        74\n",
      "67.0        66\n",
      "74.0        39\n",
      "72.0        38\n",
      "50.0        30\n",
      "65.0        28\n",
      "68.0        20\n",
      "71.0        14\n",
      "69.0        13\n",
      "63.0        11\n",
      "53.0        10\n",
      "64.0        10\n",
      "47.0         5\n",
      "30.0         4\n",
      "62.0         3\n",
      "66.0         3\n",
      "55.0         3\n",
      "57.0         3\n",
      "27.0         2\n",
      "35.0         1\n",
      "49.0         1\n",
      "58.0         1\n",
      "54.0         1\n",
      "56.0         1\n",
      "Name: count, dtype: int64\n"
     ]
    }
   ],
   "source": [
    "print(\"\\nConteo de Review Scores:\")\n",
    "print(scores_counts)"
   ]
  },
  {
   "cell_type": "code",
   "execution_count": 21,
   "metadata": {},
   "outputs": [
    {
     "name": "stdout",
     "output_type": "stream",
     "text": [
      "count    57389.000000\n",
      "mean        94.067365\n",
      "std          7.836556\n",
      "min         20.000000\n",
      "25%         92.000000\n",
      "50%         96.000000\n",
      "75%        100.000000\n",
      "max        100.000000\n",
      "Name: review_scores_rating, dtype: float64\n"
     ]
    }
   ],
   "source": [
    "print(df['review_scores_rating'].describe())"
   ]
  },
  {
   "cell_type": "code",
   "execution_count": 27,
   "metadata": {},
   "outputs": [
    {
     "name": "stdout",
     "output_type": "stream",
     "text": [
      "\n",
      "Conteo de Bedrooms:\n",
      "bedrooms\n",
      "1.0     49784\n",
      "2.0     11351\n",
      "0.0      6715\n",
      "3.0      4309\n",
      "4.0      1330\n",
      "5.0       355\n",
      "6.0       106\n",
      "7.0        38\n",
      "8.0        14\n",
      "10.0       10\n",
      "9.0         8\n",
      "Name: count, dtype: int64\n"
     ]
    }
   ],
   "source": [
    "print(\"\\nConteo de Bedrooms:\")\n",
    "print(bedrooms_counts)"
   ]
  },
  {
   "cell_type": "code",
   "execution_count": 25,
   "metadata": {},
   "outputs": [
    {
     "name": "stdout",
     "output_type": "stream",
     "text": [
      "count    74020.000000\n",
      "mean         1.265793\n",
      "std          0.852143\n",
      "min          0.000000\n",
      "25%          1.000000\n",
      "50%          1.000000\n",
      "75%          1.000000\n",
      "max         10.000000\n",
      "Name: bedrooms, dtype: float64\n"
     ]
    }
   ],
   "source": [
    "print(df['bedrooms'].describe())"
   ]
  },
  {
   "cell_type": "code",
   "execution_count": 30,
   "metadata": {},
   "outputs": [
    {
     "name": "stdout",
     "output_type": "stream",
     "text": [
      "\n",
      "Conteo de Beds:\n",
      "beds\n",
      "1.0     45144\n",
      "2.0     16704\n",
      "3.0      6442\n",
      "4.0      3065\n",
      "5.0      1287\n",
      "6.0       661\n",
      "7.0       216\n",
      "8.0       186\n",
      "10.0       88\n",
      "9.0        72\n",
      "16.0       38\n",
      "12.0       29\n",
      "11.0       23\n",
      "13.0       10\n",
      "15.0        6\n",
      "14.0        4\n",
      "0.0         4\n",
      "18.0        1\n",
      "Name: count, dtype: int64\n"
     ]
    }
   ],
   "source": [
    "print(\"\\nConteo de Beds:\")\n",
    "print(beds_counts)"
   ]
  },
  {
   "cell_type": "code",
   "execution_count": 31,
   "metadata": {},
   "outputs": [
    {
     "name": "stdout",
     "output_type": "stream",
     "text": [
      "count    73980.000000\n",
      "mean         1.710868\n",
      "std          1.254142\n",
      "min          0.000000\n",
      "25%          1.000000\n",
      "50%          1.000000\n",
      "75%          2.000000\n",
      "max         18.000000\n",
      "Name: beds, dtype: float64\n"
     ]
    }
   ],
   "source": [
    "print(df['beds'].describe())"
   ]
  },
  {
   "cell_type": "code",
   "execution_count": null,
   "metadata": {},
   "outputs": [
    {
     "name": "stdout",
     "output_type": "stream",
     "text": [
      "\n",
      "Conteo de Beds:\n",
      "city\n",
      "NYC        32349\n",
      "LA         22453\n",
      "SF          6434\n",
      "DC          5688\n",
      "Chicago     3719\n",
      "Boston      3468\n",
      "Name: count, dtype: int64\n"
     ]
    }
   ],
   "source": [
    "print(\"\\nConteo de Beds:\")\n",
    "print(city_counts)"
   ]
  },
  {
   "cell_type": "code",
   "execution_count": 40,
   "metadata": {},
   "outputs": [
    {
     "name": "stdout",
     "output_type": "stream",
     "text": [
      "          bathrooms      bedrooms          beds  review_scores_rating\n",
      "count  73911.000000  74020.000000  73980.000000          57389.000000\n",
      "mean       1.235263      1.265793      1.710868             94.067365\n",
      "std        0.582044      0.852143      1.254142              7.836556\n",
      "min        0.000000      0.000000      0.000000             20.000000\n",
      "25%        1.000000      1.000000      1.000000             92.000000\n",
      "50%        1.000000      1.000000      1.000000             96.000000\n",
      "75%        1.000000      1.000000      2.000000            100.000000\n",
      "max        8.000000     10.000000     18.000000            100.000000\n"
     ]
    }
   ],
   "source": [
    "# Mostrar estadísticas descriptivas de las variables\n",
    "print(df[['bathrooms', 'bedrooms', 'beds', 'review_scores_rating']].describe())"
   ]
  },
  {
   "cell_type": "code",
   "execution_count": 42,
   "metadata": {},
   "outputs": [
    {
     "data": {
      "image/png": "[encoded data removed]",
      "text/plain": [
       "<Figure size 1200x800 with 4 Axes>"
      ]
     },
     "metadata": {},
     "output_type": "display_data"
    }
   ],
   "source": [
    "df[['bathrooms', 'bedrooms', 'beds', 'review_scores_rating']].hist(bins=20, figsize=(12, 8))\n",
    "plt.suptitle(\"Distribución de Variables\")\n",
    "plt.show()"
   ]
  },
  {
   "cell_type": "code",
   "execution_count": null,
   "metadata": {},
   "outputs": [
    {
     "data": {
      "text/html": [
       "<div>\n",
       "<style scoped>\n",
       "    .dataframe tbody tr th:only-of-type {\n",
       "        vertical-align: middle;\n",
       "    }\n",
       "\n",
       "    .dataframe tbody tr th {\n",
       "        vertical-align: top;\n",
       "    }\n",
       "\n",
       "    .dataframe thead th {\n",
       "        text-align: right;\n",
       "    }\n",
       "</style>\n",
       "<table border=\"1\" class=\"dataframe\">\n",
       "  <thead>\n",
       "    <tr style=\"text-align: right;\">\n",
       "      <th></th>\n",
       "      <th>accommodates</th>\n",
       "      <th>bedrooms</th>\n",
       "    </tr>\n",
       "  </thead>\n",
       "  <tbody>\n",
       "    <tr>\n",
       "      <th>0</th>\n",
       "      <td>3</td>\n",
       "      <td>1.0</td>\n",
       "    </tr>\n",
       "    <tr>\n",
       "      <th>1</th>\n",
       "      <td>7</td>\n",
       "      <td>3.0</td>\n",
       "    </tr>\n",
       "    <tr>\n",
       "      <th>2</th>\n",
       "      <td>5</td>\n",
       "      <td>1.0</td>\n",
       "    </tr>\n",
       "    <tr>\n",
       "      <th>3</th>\n",
       "      <td>4</td>\n",
       "      <td>2.0</td>\n",
       "    </tr>\n",
       "    <tr>\n",
       "      <th>4</th>\n",
       "      <td>2</td>\n",
       "      <td>0.0</td>\n",
       "    </tr>\n",
       "    <tr>\n",
       "      <th>...</th>\n",
       "      <td>...</td>\n",
       "      <td>...</td>\n",
       "    </tr>\n",
       "    <tr>\n",
       "      <th>74106</th>\n",
       "      <td>1</td>\n",
       "      <td>1.0</td>\n",
       "    </tr>\n",
       "    <tr>\n",
       "      <th>74107</th>\n",
       "      <td>4</td>\n",
       "      <td>2.0</td>\n",
       "    </tr>\n",
       "    <tr>\n",
       "      <th>74108</th>\n",
       "      <td>5</td>\n",
       "      <td>2.0</td>\n",
       "    </tr>\n",
       "    <tr>\n",
       "      <th>74109</th>\n",
       "      <td>2</td>\n",
       "      <td>0.0</td>\n",
       "    </tr>\n",
       "    <tr>\n",
       "      <th>74110</th>\n",
       "      <td>4</td>\n",
       "      <td>1.0</td>\n",
       "    </tr>\n",
       "  </tbody>\n",
       "</table>\n",
       "<p>74111 rows × 2 columns</p>\n",
       "</div>"
      ],
      "text/plain": [
       "       accommodates  bedrooms\n",
       "0                 3       1.0\n",
       "1                 7       3.0\n",
       "2                 5       1.0\n",
       "3                 4       2.0\n",
       "4                 2       0.0\n",
       "...             ...       ...\n",
       "74106             1       1.0\n",
       "74107             4       2.0\n",
       "74108             5       2.0\n",
       "74109             2       0.0\n",
       "74110             4       1.0\n",
       "\n",
       "[74111 rows x 2 columns]"
      ]
     },
     "execution_count": 43,
     "metadata": {},
     "output_type": "execute_result"
    }
   ],
   "source": [
    "df[['accommodates', 'bedrooms']]"
   ]
  },
  {
   "cell_type": "code",
   "execution_count": 5,
   "metadata": {},
   "outputs": [
    {
     "name": "stdout",
     "output_type": "stream",
     "text": [
      "Cantidad de outliers en log_price: 1532\n"
     ]
    },
    {
     "data": {
      "image/png": "[encoded data removed]",
      "text/plain": [
       "<Figure size 800x400 with 1 Axes>"
      ]
     },
     "metadata": {},
     "output_type": "display_data"
    }
   ],
   "source": [
    "# Calcular el IQR (Rango Intercuartil)\n",
    "Q1 = df['log_price'].quantile(0.25)\n",
    "Q3 = df['log_price'].quantile(0.75)\n",
    "IQR = Q3 - Q1\n",
    "\n",
    "# Definir límites para outliers\n",
    "lower_bound = Q1 - 1.5 * IQR\n",
    "upper_bound = Q3 + 1.5 * IQR\n",
    "\n",
    "# Contar outliers\n",
    "outliers = df[(df['log_price'] < lower_bound) | (df['log_price'] > upper_bound)]\n",
    "print(f\"Cantidad de outliers en log_price: {outliers.shape[0]}\")\n",
    "\n",
    "# Visualizar con Boxplot\n",
    "plt.figure(figsize=(8,4))\n",
    "plt.boxplot(df['log_price'], vert=False)\n",
    "plt.title(\"Boxplot de log_price\")\n",
    "plt.xlabel(\"log_price\")\n",
    "plt.show()"
   ]
  },
  {
   "cell_type": "code",
   "execution_count": 15,
   "metadata": {},
   "outputs": [
    {
     "name": "stdout",
     "output_type": "stream",
     "text": [
      "Límite inferior: 2.9631865462232887\n",
      "Límite superior: 6.574657392391346\n",
      "Outlier menor:\n",
      "0.0\n",
      "Outlier mayor:\n",
      "7.6004023345004\n"
     ]
    }
   ],
   "source": [
    "import numpy as np\n",
    "\n",
    "# Calcular cuartiles\n",
    "Q1 = df['log_price'].quantile(0.25)  # Primer cuartil (25%)\n",
    "Q3 = df['log_price'].quantile(0.75)  # Tercer cuartil (75%)\n",
    "\n",
    "# Calcular IQR (Rango Intercuartílico)\n",
    "IQR = Q3 - Q1\n",
    "\n",
    "# Definir límites para detectar outliers\n",
    "limite_inferior = Q1 - 1.5 * IQR\n",
    "limite_superior = Q3 + 1.5 * IQR\n",
    "\n",
    "# Filtrar los outliers menores y mayores\n",
    "outliers_menores = df[df['log_price'] < limite_inferior]\n",
    "outliers_mayores = df[df['log_price'] > limite_superior]\n",
    "\n",
    "# Mostrar resultados\n",
    "print(f\"Límite inferior: {limite_inferior}\")\n",
    "print(f\"Límite superior: {limite_superior}\")\n",
    "print(f\"Outlier menor:\\n{outliers_menores['log_price'].min()}\")\n",
    "print(f\"Outlier mayor:\\n{outliers_mayores['log_price'].max()}\")"
   ]
  },
  {
   "cell_type": "code",
   "execution_count": 6,
   "metadata": {},
   "outputs": [
    {
     "name": "stdout",
     "output_type": "stream",
     "text": [
      "           bathrooms  log_price\n",
      "bathrooms    1.00000    0.35542\n",
      "log_price    0.35542    1.00000\n"
     ]
    }
   ],
   "source": [
    "print(df[['bathrooms', 'log_price']].corr())"
   ]
  },
  {
   "cell_type": "code",
   "execution_count": 8,
   "metadata": {},
   "outputs": [
    {
     "name": "stdout",
     "output_type": "stream",
     "text": [
      "                      review_scores_rating  log_price\n",
      "review_scores_rating              1.000000   0.091219\n",
      "log_price                         0.091219   1.000000\n"
     ]
    }
   ],
   "source": [
    "print(df[['review_scores_rating', 'log_price']].corr())"
   ]
  },
  {
   "cell_type": "code",
   "execution_count": 9,
   "metadata": {},
   "outputs": [
    {
     "name": "stdout",
     "output_type": "stream",
     "text": [
      "           bedrooms  log_price\n",
      "bedrooms   1.000000   0.473212\n",
      "log_price  0.473212   1.000000\n"
     ]
    }
   ],
   "source": [
    "print(df[['bedrooms', 'log_price']].corr())"
   ]
  },
  {
   "cell_type": "code",
   "execution_count": 10,
   "metadata": {},
   "outputs": [
    {
     "name": "stdout",
     "output_type": "stream",
     "text": [
      "               beds  log_price\n",
      "beds       1.000000   0.442153\n",
      "log_price  0.442153   1.000000\n"
     ]
    }
   ],
   "source": [
    "print(df[['beds', 'log_price']].corr())"
   ]
  },
  {
   "cell_type": "code",
   "execution_count": 14,
   "metadata": {},
   "outputs": [
    {
     "name": "stdout",
     "output_type": "stream",
     "text": [
      "            zipcode  log_price\n",
      "zipcode    1.000000   0.034023\n",
      "log_price  0.034023   1.000000\n",
      "            zipcode  log_price\n",
      "zipcode    1.000000   0.034023\n",
      "log_price  0.034023   1.000000\n"
     ]
    }
   ],
   "source": [
    "df['zipcode'] = pd.to_numeric(df['zipcode'], errors='coerce')  # Convierte y pone NaN en valores no convertibles\n",
    "print(df[['zipcode', 'log_price']].corr())\n",
    "# Si ya es numérico, calcular la correlación con log_price\n",
    "print(df[['zipcode', 'log_price']].corr())"
   ]
  },
  {
   "cell_type": "code",
   "execution_count": 17,
   "metadata": {},
   "outputs": [
    {
     "name": "stdout",
     "output_type": "stream",
     "text": [
      "       accommodates  bedrooms  beds\n",
      "4079              2       1.0   1.0\n",
      "33735             2       1.0   1.0\n",
      "69475             5       2.0   3.0\n",
      "454               6       1.0   3.0\n",
      "25153             2       1.0   1.0\n",
      "42304             6       2.0   3.0\n",
      "22686             5       2.0   1.0\n",
      "20776             2       1.0   1.0\n",
      "14934             2       1.0   1.0\n",
      "39634             2       4.0   1.0\n",
      "71413             1       1.0   1.0\n",
      "7217              5       2.0   2.0\n",
      "643               5       1.0   1.0\n",
      "25819             2       1.0   1.0\n",
      "44612             3       1.0   1.0\n",
      "42830             2       1.0   1.0\n",
      "40292             2       1.0   1.0\n",
      "51300             2       1.0   1.0\n",
      "66278             1       1.0   1.0\n",
      "67769             4       0.0   1.0\n"
     ]
    }
   ],
   "source": [
    "print(df[['accommodates', 'bedrooms', 'beds']].sample(20, random_state=42))"
   ]
  },
  {
   "cell_type": "markdown",
   "metadata": {},
   "source": [
    "Podria decirse que accomodates su mitad es bedrooms"
   ]
  },
  {
   "cell_type": "code",
   "execution_count": 12,
   "metadata": {},
   "outputs": [
    {
     "data": {
      "image/png": "[encoded data removed]",
      "text/plain": [
       "<Figure size 1000x600 with 1 Axes>"
      ]
     },
     "metadata": {},
     "output_type": "display_data"
    }
   ],
   "source": [
    "# Crear scatter plot de latitud y longitud\n",
    "plt.figure(figsize=(10,6))\n",
    "plt.scatter(df['longitude'], df['latitude'], alpha=0.5, s=5)\n",
    "plt.xlabel(\"Longitude\")\n",
    "plt.ylabel(\"Latitude\")\n",
    "plt.title(\"Distribución de Propiedades por Latitud y Longitud\")\n",
    "plt.show()"
   ]
  },
  {
   "cell_type": "code",
   "execution_count": null,
   "metadata": {},
   "outputs": [
    {
     "name": "stdout",
     "output_type": "stream",
     "text": [
      "Total de filas duplicadas: 0\n"
     ]
    }
   ],
   "source": [
    "duplicados = df.duplicated().sum()\n",
    "print(f\"Total de filas duplicadas: {duplicados}\")"
   ]
  }
 ],
 "metadata": {
  "kernelspec": {
   "display_name": "base",
   "language": "python",
   "name": "python3"
  },
  "language_info": {
   "codemirror_mode": {
    "name": "ipython",
    "version": 3
   },
   "file_extension": ".py",
   "mimetype": "text/x-python",
   "name": "python",
   "nbconvert_exporter": "python",
   "pygments_lexer": "ipython3",
   "version": "3.12.2"
  }
 },
 "nbformat": 4,
 "nbformat_minor": 2
}
