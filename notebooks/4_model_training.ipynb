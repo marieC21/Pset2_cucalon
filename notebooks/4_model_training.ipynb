{
 "cells": [
  {
   "cell_type": "code",
   "execution_count": null,
   "metadata": {},
   "outputs": [
    {
     "name": "stdout",
     "output_type": "stream",
     "text": [
      "✅ Datos divididos: 59288 train, 14823 test\n",
      "✅ Regresión Lineal con Ecuación Normal entrenada\n",
      "✅ Regresión Lineal con SVD entrenada\n",
      "✅ Regresión Polinomial entrenada\n",
      "✅ Regresión Lineal con Batch Gradient Descent entrenada\n",
      "✅ Regresión Lineal con Stochastic Gradient Descent entrenada\n",
      "✅ Lasso Regression entrenada\n",
      "✅ Ridge Regression entrenada\n",
      "✅ Modelos guardados correctamente en /Users/chants/Desktop/Pset2_cucalon/models/\n"
     ]
    }
   ],
   "source": [
    "import os\n",
    "import pandas as pd\n",
    "import numpy as np\n",
    "from sklearn.model_selection import train_test_split\n",
    "from sklearn.preprocessing import PolynomialFeatures\n",
    "from sklearn.linear_model import LinearRegression, SGDRegressor, Lasso, Ridge\n",
    "import joblib\n",
    "\n",
    "# Definir la ruta de guardado\n",
    "save_path = \"/Users/chants/Desktop/Pset2_cucalon/models/\"\n",
    "os.makedirs(save_path, exist_ok=True)  # Crea la carpeta si no existe\n",
    "\n",
    "# Cargar el dataset con las features escaladas\n",
    "file_path = \"/Users/chants/Desktop/Pset2_cucalon/data/processed/Airbnb_Featured_Scaled.csv\"\n",
    "df = pd.read_csv(file_path)\n",
    "\n",
    "# Separar variables predictoras (X) y la variable objetivo (y)\n",
    "X = df.drop(columns=[\"log_price\"])\n",
    "y = df[\"log_price\"]\n",
    "\n",
    "# División en conjunto de entrenamiento (80%) y prueba (20%)\n",
    "X_train, X_test, y_train, y_test = train_test_split(X, y, test_size=0.2, random_state=42)\n",
    "\n",
    "print(f\"✅ Datos divididos: {X_train.shape[0]} train, {X_test.shape[0]} test\")\n",
    "\n",
    "# Regresión Lineal con Ecuación Normal (Implementación Propia)\n",
    "theta_normal = np.linalg.inv(X_train.T @ X_train) @ X_train.T @ y_train\n",
    "\n",
    "# Regresión Lineal con Scikit-learn\n",
    "lin_reg = LinearRegression()\n",
    "lin_reg.fit(X_train, y_train)\n",
    "\n",
    "print(\"✅ Regresión Lineal con Ecuación Normal entrenada\")\n",
    "\n",
    "# Regresión Lineal con SVD (Implementación Propia)\n",
    "U, S, Vt = np.linalg.svd(X_train, full_matrices=False)\n",
    "theta_svd = Vt.T @ np.linalg.inv(np.diag(S)) @ U.T @ y_train\n",
    "\n",
    "print(\"✅ Regresión Lineal con SVD entrenada\")\n",
    "\n",
    "# Regresión Polinomial\n",
    "poly = PolynomialFeatures(degree=3, include_bias=False)\n",
    "X_train_poly = poly.fit_transform(X_train)\n",
    "X_test_poly = poly.transform(X_test)\n",
    "poly_reg = LinearRegression()\n",
    "poly_reg.fit(X_train_poly, y_train)\n",
    "\n",
    "print(\"✅ Regresión Polinomial entrenada\")\n",
    "\n",
    "# Regresión Lineal con Batch Gradient Descent (Implementación Propia)\n",
    "learning_rate = 0.01\n",
    "n_iterations = 1000\n",
    "m = len(X_train)\n",
    "theta_gd = np.random.randn(X_train.shape[1])\n",
    "\n",
    "for iteration in range(n_iterations):\n",
    "    gradients = (2/m) * X_train.T @ (X_train @ theta_gd - y_train)\n",
    "    theta_gd -= learning_rate * gradients\n",
    "\n",
    "print(\"✅ Regresión Lineal con Batch Gradient Descent entrenada\")\n",
    "\n",
    "# Regresión Lineal con Stochastic Gradient Descent\n",
    "sgd_reg = SGDRegressor(max_iter=5000, tol=1e-3, penalty=None, eta0=0.01)\n",
    "sgd_reg.fit(X_train, y_train)\n",
    "\n",
    "print(\"✅ Regresión Lineal con Stochastic Gradient Descent entrenada\")\n",
    "\n",
    "# Lasso Regression\n",
    "lasso_reg = Lasso(alpha=0.001)\n",
    "lasso_reg.fit(X_train, y_train)\n",
    "\n",
    "print(\"✅ Lasso Regression entrenada\")\n",
    "\n",
    "# Ridge Regression\n",
    "ridge_reg = Ridge(alpha=0.001)\n",
    "ridge_reg.fit(X_train, y_train)\n",
    "\n",
    "print(\"✅ Ridge Regression entrenada\")\n",
    "\n",
    "# Guardar los modelos entrenados en la carpeta definida\n",
    "joblib.dump(lin_reg, os.path.join(save_path, \"lin_reg.pkl\"))\n",
    "joblib.dump(poly_reg, os.path.join(save_path, \"poly_reg.pkl\"))\n",
    "joblib.dump(sgd_reg, os.path.join(save_path, \"sgd_reg.pkl\"))\n",
    "joblib.dump(lasso_reg, os.path.join(save_path, \"lasso_reg.pkl\"))\n",
    "joblib.dump(ridge_reg, os.path.join(save_path, \"ridge_reg.pkl\"))\n",
    "joblib.dump(poly, os.path.join(save_path, \"poly_features.pkl\"))\n",
    "joblib.dump(theta_normal, os.path.join(save_path, \"theta_normal.pkl\"))\n",
    "joblib.dump(theta_svd, os.path.join(save_path, \"theta_svd.pkl\"))\n",
    "joblib.dump(theta_gd, os.path.join(save_path, \"theta_gd.pkl\"))\n",
    "\n",
    "print(f\"✅ Modelos guardados correctamente\")\n",
    "\n"
   ]
  },
  {
   "cell_type": "code",
   "execution_count": null,
   "metadata": {},
   "outputs": [
    {
     "name": "stdout",
     "output_type": "stream",
     "text": [
      "🔹 RMSE Train: 0.4502\n",
      "🔹 RMSE Test: 0.4574\n"
     ]
    },
    {
     "name": "stderr",
     "output_type": "stream",
     "text": [
      "/opt/anaconda3/lib/python3.12/site-packages/sklearn/metrics/_regression.py:492: FutureWarning: 'squared' is deprecated in version 1.4 and will be removed in 1.6. To calculate the root mean squared error, use the function'root_mean_squared_error'.\n",
      "  warnings.warn(\n",
      "/opt/anaconda3/lib/python3.12/site-packages/sklearn/metrics/_regression.py:492: FutureWarning: 'squared' is deprecated in version 1.4 and will be removed in 1.6. To calculate the root mean squared error, use the function'root_mean_squared_error'.\n",
      "  warnings.warn(\n"
     ]
    }
   ],
   "source": [
    "from sklearn.metrics import mean_squared_error\n",
    "\n",
    "# Predecir en train y test\n",
    "y_train_pred = poly_reg.predict(X_train_poly)\n",
    "y_test_pred = poly_reg.predict(X_test_poly)\n",
    "\n",
    "# Calcular errores en train y test (RMSE)\n",
    "rmse_train = mean_squared_error(y_train, y_train_pred, squared=False)\n",
    "rmse_test = mean_squared_error(y_test, y_test_pred, squared=False)\n",
    "\n",
    "print(f\"🔹 RMSE Train: {rmse_train:.4f}\")\n",
    "print(f\"🔹 RMSE Test: {rmse_test:.4f}\")\n",
    "\n"
   ]
  },
  {
   "cell_type": "code",
   "execution_count": 37,
   "metadata": {},
   "outputs": [
    {
     "name": "stderr",
     "output_type": "stream",
     "text": [
      "/opt/anaconda3/lib/python3.12/site-packages/sklearn/metrics/_regression.py:492: FutureWarning: 'squared' is deprecated in version 1.4 and will be removed in 1.6. To calculate the root mean squared error, use the function'root_mean_squared_error'.\n",
      "  warnings.warn(\n",
      "/opt/anaconda3/lib/python3.12/site-packages/sklearn/metrics/_regression.py:492: FutureWarning: 'squared' is deprecated in version 1.4 and will be removed in 1.6. To calculate the root mean squared error, use the function'root_mean_squared_error'.\n",
      "  warnings.warn(\n",
      "/opt/anaconda3/lib/python3.12/site-packages/sklearn/metrics/_regression.py:492: FutureWarning: 'squared' is deprecated in version 1.4 and will be removed in 1.6. To calculate the root mean squared error, use the function'root_mean_squared_error'.\n",
      "  warnings.warn(\n",
      "/opt/anaconda3/lib/python3.12/site-packages/sklearn/metrics/_regression.py:492: FutureWarning: 'squared' is deprecated in version 1.4 and will be removed in 1.6. To calculate the root mean squared error, use the function'root_mean_squared_error'.\n",
      "  warnings.warn(\n",
      "/opt/anaconda3/lib/python3.12/site-packages/sklearn/metrics/_regression.py:492: FutureWarning: 'squared' is deprecated in version 1.4 and will be removed in 1.6. To calculate the root mean squared error, use the function'root_mean_squared_error'.\n",
      "  warnings.warn(\n",
      "/opt/anaconda3/lib/python3.12/site-packages/sklearn/metrics/_regression.py:492: FutureWarning: 'squared' is deprecated in version 1.4 and will be removed in 1.6. To calculate the root mean squared error, use the function'root_mean_squared_error'.\n",
      "  warnings.warn(\n",
      "/opt/anaconda3/lib/python3.12/site-packages/sklearn/metrics/_regression.py:492: FutureWarning: 'squared' is deprecated in version 1.4 and will be removed in 1.6. To calculate the root mean squared error, use the function'root_mean_squared_error'.\n",
      "  warnings.warn(\n",
      "/opt/anaconda3/lib/python3.12/site-packages/sklearn/metrics/_regression.py:492: FutureWarning: 'squared' is deprecated in version 1.4 and will be removed in 1.6. To calculate the root mean squared error, use the function'root_mean_squared_error'.\n",
      "  warnings.warn(\n",
      "/opt/anaconda3/lib/python3.12/site-packages/sklearn/metrics/_regression.py:492: FutureWarning: 'squared' is deprecated in version 1.4 and will be removed in 1.6. To calculate the root mean squared error, use the function'root_mean_squared_error'.\n",
      "  warnings.warn(\n",
      "/opt/anaconda3/lib/python3.12/site-packages/sklearn/metrics/_regression.py:492: FutureWarning: 'squared' is deprecated in version 1.4 and will be removed in 1.6. To calculate the root mean squared error, use the function'root_mean_squared_error'.\n",
      "  warnings.warn(\n"
     ]
    },
    {
     "data": {
      "image/png": "[encoded data removed]",
      "text/plain": [
       "<Figure size 640x480 with 1 Axes>"
      ]
     },
     "metadata": {},
     "output_type": "display_data"
    }
   ],
   "source": [
    "import matplotlib.pyplot as plt\n",
    "import numpy as np\n",
    "from sklearn.preprocessing import PolynomialFeatures\n",
    "from sklearn.linear_model import LinearRegression\n",
    "\n",
    "train_errors = []\n",
    "test_errors = []\n",
    "degrees = range(1, 6)  # Probamos polinomios de grado 1 a 5\n",
    "\n",
    "for d in degrees:\n",
    "    poly = PolynomialFeatures(degree=d, include_bias=False)\n",
    "    X_train_poly_d = poly.fit_transform(X_train)\n",
    "    X_test_poly_d = poly.transform(X_test)\n",
    "\n",
    "    model = LinearRegression()\n",
    "    model.fit(X_train_poly_d, y_train)\n",
    "\n",
    "    y_train_pred = model.predict(X_train_poly_d)\n",
    "    y_test_pred = model.predict(X_test_poly_d)\n",
    "\n",
    "    rmse_train = mean_squared_error(y_train, y_train_pred, squared=False)\n",
    "    rmse_test = mean_squared_error(y_test, y_test_pred, squared=False)\n",
    "\n",
    "    train_errors.append(rmse_train)\n",
    "    test_errors.append(rmse_test)\n",
    "\n",
    "# 📈 Graficar los errores\n",
    "plt.plot(degrees, train_errors, label=\"RMSE Train\", marker=\"o\")\n",
    "plt.plot(degrees, test_errors, label=\"RMSE Test\", marker=\"s\")\n",
    "plt.xlabel(\"Grado del Polinomio\")\n",
    "plt.ylabel(\"RMSE\")\n",
    "plt.title(\"Curva de Validación\")\n",
    "plt.legend()\n",
    "plt.show()\n"
   ]
  }
 ],
 "metadata": {
  "kernelspec": {
   "display_name": "base",
   "language": "python",
   "name": "python3"
  },
  "language_info": {
   "codemirror_mode": {
    "name": "ipython",
    "version": 3
   },
   "file_extension": ".py",
   "mimetype": "text/x-python",
   "name": "python",
   "nbconvert_exporter": "python",
   "pygments_lexer": "ipython3",
   "version": "3.12.2"
  }
 },
 "nbformat": 4,
 "nbformat_minor": 2
}
