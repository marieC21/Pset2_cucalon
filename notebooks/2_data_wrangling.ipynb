{
 "cells": [
  {
   "cell_type": "code",
   "execution_count": 19,
   "metadata": {},
   "outputs": [],
   "source": [
    "import pandas as pd\n",
    "import matplotlib.pyplot as plt"
   ]
  },
  {
   "cell_type": "code",
   "execution_count": null,
   "metadata": {},
   "outputs": [
    {
     "name": "stdout",
     "output_type": "stream",
     "text": [
      "<class 'pandas.core.frame.DataFrame'>\n",
      "RangeIndex: 74111 entries, 0 to 74110\n",
      "Data columns (total 13 columns):\n",
      " #   Column                Non-Null Count  Dtype  \n",
      "---  ------                --------------  -----  \n",
      " 0   log_price             74111 non-null  float64\n",
      " 1   property_type         74111 non-null  object \n",
      " 2   room_type             74111 non-null  object \n",
      " 3   amenities             74111 non-null  object \n",
      " 4   accommodates          74111 non-null  int64  \n",
      " 5   bed_type              74111 non-null  object \n",
      " 6   cleaning_fee          74111 non-null  bool   \n",
      " 7   city                  74111 non-null  object \n",
      " 8   latitude              74111 non-null  float64\n",
      " 9   longitude             74111 non-null  float64\n",
      " 10  review_scores_rating  57389 non-null  float64\n",
      " 11  bedrooms              74020 non-null  float64\n",
      " 12  beds                  73980 non-null  float64\n",
      "dtypes: bool(1), float64(6), int64(1), object(5)\n",
      "memory usage: 6.9+ MB\n",
      "None\n",
      "Eliminación de columnas completada 🚀\n"
     ]
    }
   ],
   "source": [
    "# Cargar el dataset original sin modificarlo\n",
    "df_raw = pd.read_csv('/Users/chants/Desktop/Pset2_cucalon/data/raw/Airbnb_Data.csv')\n",
    "\n",
    "# Crear una copia para trabajar sin afectar el dataset original\n",
    "df = df_raw.copy()\n",
    "\n",
    "# Lista de columnas a mantener\n",
    "columns_to_keep = [\n",
    "    'log_price', 'property_type', 'room_type', 'amenities', 'accommodates', 'bed_type', \n",
    "    'cleaning_fee', 'city', 'latitude', 'longitude',\n",
    "    'review_scores_rating', 'bedrooms', 'beds'\n",
    "]\n",
    "\n",
    "# Eliminar las columnas no necesarias\n",
    "df = df[columns_to_keep]\n",
    "\n",
    "# Verificar que solo quedan las columnas deseadas\n",
    "print(df.info())\n",
    "\n",
    "# Guardar el dataset limpio sin columnas irrelevantes\n",
    "df.to_csv('/Users/chants/Desktop/Pset2_cucalon/data/processed/Airbnb_Cleaned.csv', index=False)\n",
    "\n",
    "print(\"Eliminación de columnas completada\")\n"
   ]
  },
  {
   "cell_type": "code",
   "execution_count": 22,
   "metadata": {},
   "outputs": [
    {
     "name": "stdout",
     "output_type": "stream",
     "text": [
      "Valores nulos en el dataset:\n",
      "review_scores_rating    16722\n",
      "bedrooms                   91\n",
      "beds                      131\n",
      "dtype: int64\n"
     ]
    }
   ],
   "source": [
    "# Resumen nulos en cada columna seleccionada\n",
    "missing_values = df.isnull().sum()\n",
    "\n",
    "# Mostrar solo las columnas con valores nulos\n",
    "missing_values = missing_values[missing_values > 0]\n",
    "\n",
    "\n",
    "print(\"Valores nulos en el dataset:\")\n",
    "print(missing_values)"
   ]
  },
  {
   "cell_type": "code",
   "execution_count": null,
   "metadata": {},
   "outputs": [],
   "source": [
    "# Cargar el dataset limpio\n",
    "df = pd.read_csv('/Users/chants/Desktop/Pset2_cucalon/data/processed/Airbnb_Cleaned.csv')"
   ]
  },
  {
   "cell_type": "code",
   "execution_count": null,
   "metadata": {},
   "outputs": [
    {
     "name": "stderr",
     "output_type": "stream",
     "text": [
      "/var/folders/ws/xnp5l9k56zggyb_d7zfv75rm0000gn/T/ipykernel_6267/1990521841.py:2: FutureWarning: A value is trying to be set on a copy of a DataFrame or Series through chained assignment using an inplace method.\n",
      "The behavior will change in pandas 3.0. This inplace method will never work because the intermediate object on which we are setting values always behaves as a copy.\n",
      "\n",
      "For example, when doing 'df[col].method(value, inplace=True)', try using 'df.method({col: value}, inplace=True)' or df[col] = df[col].method(value) instead, to perform the operation inplace on the original object.\n",
      "\n",
      "\n",
      "  df['review_scores_rating'].fillna(-1, inplace=True)\n",
      "/var/folders/ws/xnp5l9k56zggyb_d7zfv75rm0000gn/T/ipykernel_6267/1990521841.py:5: FutureWarning: A value is trying to be set on a copy of a DataFrame or Series through chained assignment using an inplace method.\n",
      "The behavior will change in pandas 3.0. This inplace method will never work because the intermediate object on which we are setting values always behaves as a copy.\n",
      "\n",
      "For example, when doing 'df[col].method(value, inplace=True)', try using 'df.method({col: value}, inplace=True)' or df[col] = df[col].method(value) instead, to perform the operation inplace on the original object.\n",
      "\n",
      "\n",
      "  df['beds'].fillna(df['beds'].median(), inplace=True)\n"
     ]
    },
    {
     "name": "stdout",
     "output_type": "stream",
     "text": [
      "✅ Limpieza completada y guardada en Airbnb_Cleaned.csv\n",
      "beds                    0\n",
      "bedrooms                0\n",
      "review_scores_rating    0\n",
      "dtype: int64\n",
      "beds        int64\n",
      "bedrooms    int64\n",
      "dtype: object\n"
     ]
    }
   ],
   "source": [
    "# Rellenar valores nulos en `review_scores_rating` con -1\n",
    "df['review_scores_rating'].fillna(-1, inplace=True)\n",
    "\n",
    "# Rellenar valores nulos en `beds` con la mediana\n",
    "df['beds'].fillna(df['beds'].median(), inplace=True)\n",
    "\n",
    "# Rellenar `bedrooms` con accommodates // 2 si son nulos o 0\n",
    "df.loc[df['bedrooms'].isna() | (df['bedrooms'] == 0), 'bedrooms'] = df['accommodates'] // 2\n",
    "\n",
    "# Convertir `beds` y `bedrooms` a enteros sin redondeo\n",
    "df['beds'] = df['beds'].astype(int)\n",
    "df['bedrooms'] = df['bedrooms'].astype(int)\n",
    "\n",
    "# Guardar el dataset actualizado\n",
    "df.to_csv('/Users/chants/Desktop/Pset2_cucalon/data/processed/Airbnb_Cleaned.csv', index=False)\n",
    "\n",
    "print(\"✅ Limpieza completada y guardada en Airbnb_Cleaned.csv\")\n",
    "\n",
    "# Verificar que no haya valores nulos y que los tipos sean correctos\n",
    "print(df[['beds', 'bedrooms', 'review_scores_rating']].isnull().sum()) \n",
    "print(df[['beds', 'bedrooms']].dtypes)  "
   ]
  }
 ],
 "metadata": {
  "kernelspec": {
   "display_name": "base",
   "language": "python",
   "name": "python3"
  },
  "language_info": {
   "codemirror_mode": {
    "name": "ipython",
    "version": 3
   },
   "file_extension": ".py",
   "mimetype": "text/x-python",
   "name": "python",
   "nbconvert_exporter": "python",
   "pygments_lexer": "ipython3",
   "version": "3.12.2"
  }
 },
 "nbformat": 4,
 "nbformat_minor": 2
}
